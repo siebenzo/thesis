{
 "cells": [
  {
   "cell_type": "code",
   "execution_count": null,
   "id": "f41a66d4",
   "metadata": {},
   "outputs": [
    {
     "name": "stdout",
     "output_type": "stream",
     "text": [
      "Waiting for connection...\n"
     ]
    }
   ],
   "source": [
    "import socket\n",
    "import io\n",
    "from PIL import Image\n",
    "\n",
    "# Set up socket\n",
    "sock = socket.socket(socket.AF_INET, socket.SOCK_STREAM)\n",
    "sock.bind(('192.168.0.179', 80))\n",
    "sock.listen(2) #laat 2 connecties toe\n",
    "\n",
    "# Wait for connection\n",
    "print('Waiting for connection...')\n",
    "conn, addr = sock.accept()\n",
    "print(f'Connected by {addr}')\n",
    "\n",
    "# Read image\n",
    "print('Receiving image...')\n",
    "img_data = b''\n",
    "while True:\n",
    "    data = conn.recv(1024)\n",
    "    if not data:\n",
    "        break\n",
    "    img_data += data\n",
    "\n",
    "# Convert bytes to image\n",
    "img = Image.open(io.BytesIO(img_data))\n",
    "\n",
    "# Show image\n",
    "img.show()\n",
    "\n",
    "# Close connection\n",
    "conn.close()\n",
    "sock.close()\n"
   ]
  },
  {
   "cell_type": "code",
   "execution_count": null,
   "id": "5e61424f",
   "metadata": {},
   "outputs": [],
   "source": []
  }
 ],
 "metadata": {
  "kernelspec": {
   "display_name": "Python 3 (ipykernel)",
   "language": "python",
   "name": "python3"
  },
  "language_info": {
   "codemirror_mode": {
    "name": "ipython",
    "version": 3
   },
   "file_extension": ".py",
   "mimetype": "text/x-python",
   "name": "python",
   "nbconvert_exporter": "python",
   "pygments_lexer": "ipython3",
   "version": "3.9.7"
  }
 },
 "nbformat": 4,
 "nbformat_minor": 5
}
