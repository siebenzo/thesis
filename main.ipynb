{
 "cells": [
  {
   "cell_type": "code",
   "execution_count": null,
   "id": "644bc56d",
   "metadata": {},
   "outputs": [],
   "source": [
    "import cv2\n",
    "import urllib.request\n",
    "import requests\n",
    "import numpy as np\n",
    "# Load the face detection model\n",
    "face_cascade = cv2.CascadeClassifier('haarcascade_frontalface_default.xml')\n",
    "\n",
    "# Define the ESP32 Wrover's IP address and port number\n",
    "url = 'http://192.168.0.179:81'\n",
    "\n",
    "# Open the video stream from the ESP32 Wrover\n",
    "stream = urllib.request.urlopen(url)\n",
    "\n",
    "# Loop through the frames in the video stream\n",
    "while True:\n",
    "    # Read the next frame from the video stream\n",
    "    buffer = bytes()\n",
    "    while True:\n",
    "        buffer += stream.read(2500)\n",
    "        a = buffer.find(b'\\xff\\xd8')\n",
    "        b = buffer.find(b'\\xff\\xd9')\n",
    "        print(a, b)\n",
    "        if a != -1 and b != -1:\n",
    "            break\n",
    "        elif a != -1 and b == -1:\n",
    "            buffer = buffer[a:]\n",
    "            break\n",
    "    \n",
    "    if a != -1 and b != -1 and b > a:\n",
    "        #print(a,b)\n",
    "        frame = cv2.imdecode(np.frombuffer(buffer[a:b+2], dtype=np.uint8), cv2.IMREAD_COLOR)\n",
    "\n",
    "        if frame is not None:\n",
    "            # Apply the face detection model to the frame\n",
    "            faces = face_cascade.detectMultiScale(frame, scaleFactor=1.1, minNeighbors=5)\n",
    "\n",
    "            # Draw bounding boxes around the detected faces\n",
    "            for (x, y, w, h) in faces:\n",
    "                cv2.rectangle(frame, (x, y), (x+w, y+h), (0, 255, 0), 2)\n",
    "                requests.get('http://192.168.0.179/signal?300')\n",
    "            # Display the output\n",
    "            cv2.imshow('frame', frame)\n",
    "\n",
    "    # Exit if the 'q' key is pressed\n",
    "    if cv2.waitKey(1) == ord('q'):\n",
    "        break\n",
    "        \n",
    "    # Remove the processed data from the buffer\n",
    "    buffer = buffer[b+2:]\n",
    "\n",
    "\n",
    "# Release the video stream and close the window\n",
    "cv2.destroyAllWindows()\n",
    " "
   ]
  },
  {
   "cell_type": "code",
   "execution_count": null,
   "id": "58b63af9",
   "metadata": {},
   "outputs": [],
   "source": []
  }
 ],
 "metadata": {
  "kernelspec": {
   "display_name": "Python 3 (ipykernel)",
   "language": "python",
   "name": "python3"
  },
  "language_info": {
   "codemirror_mode": {
    "name": "ipython",
    "version": 3
   },
   "file_extension": ".py",
   "mimetype": "text/x-python",
   "name": "python",
   "nbconvert_exporter": "python",
   "pygments_lexer": "ipython3",
   "version": "3.9.7"
  }
 },
 "nbformat": 4,
 "nbformat_minor": 5
}
