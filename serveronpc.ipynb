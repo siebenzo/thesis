{
 "cells": [
  {
   "cell_type": "code",
   "execution_count": null,
   "id": "5cd0cb75",
   "metadata": {
    "scrolled": false
   },
   "outputs": [],
   "source": [
    "import cv2\n",
    "import numpy as np\n",
    "from flask import Flask, Response\n",
    "\n",
    "app = Flask(__name__)\n",
    "print(\"GO FIRE WALL IS OFF\")\n",
    "# Set up OpenCV face detection\n",
    "face_cascade = cv2.CascadeClassifier('haarcascade_frontalface_default.xml')\n",
    "\n",
    "def detect_faces(frame):\n",
    "    gray = cv2.cvtColor(frame, cv2.COLOR_BGR2GRAY)\n",
    "    faces = face_cascade.detectMultiScale(gray, 1.3, 5)\n",
    "    for (x,y,w,h) in faces:\n",
    "        cv2.rectangle(frame,(x,y),(x+w,y+h),(255,0,0),2)\n",
    "    return frame\n",
    "\n",
    "# Set up video stream from ESP32\n",
    "def get_video_stream():\n",
    "    import socket\n",
    "    import io\n",
    "    import struct\n",
    "\n",
    "    server_socket = socket.socket()\n",
    "    server_socket.bind(('localhost', 8000))\n",
    "    server_socket.listen(0)\n",
    "    connection = server_socket.accept()[0].makefile('rb')\n",
    "    try:\n",
    "        while True:\n",
    "            # Read the length of the image as a 32-bit unsigned int. If the\n",
    "            # length is zero, quit the loop\n",
    "            image_len = struct.unpack('<L', connection.read(struct.calcsize('<L')))[0]\n",
    "            if not image_len:\n",
    "                break\n",
    "            # Construct a stream to hold the image data and read the image\n",
    "            # data from the connection\n",
    "            image_stream = io.BytesIO()\n",
    "            image_stream.write(connection.read(image_len))\n",
    "            # Rewind the stream, open it as an image with PIL and do some\n",
    "            # processing on it\n",
    "            image_stream.seek(0)\n",
    "            frame = np.frombuffer(image_stream.getvalue(), dtype=np.uint8)\n",
    "            frame = cv2.imdecode(frame, cv2.IMREAD_COLOR)\n",
    "            frame = detect_faces(frame)\n",
    "    finally:\n",
    "        connection.close()\n",
    "        server_socket.close()\n",
    "\n",
    "@app.route('/')\n",
    "def index():\n",
    "    return Response(get_video_stream(), mimetype='multipart/x-mixed-replace; boundary=frame')\n",
    "\n",
    "if __name__ == '__main__':\n",
    "    app.run(host='192.168.0.102', port=8000, debug=False) #dit was via 0.0.0.0 maar die pakt alle interfaces\n"
   ]
  },
  {
   "cell_type": "code",
   "execution_count": null,
   "id": "2d3045ed",
   "metadata": {},
   "outputs": [],
   "source": []
  },
  {
   "cell_type": "code",
   "execution_count": null,
   "id": "72ae8029",
   "metadata": {},
   "outputs": [],
   "source": []
  }
 ],
 "metadata": {
  "kernelspec": {
   "display_name": "Python 3 (ipykernel)",
   "language": "python",
   "name": "python3"
  },
  "language_info": {
   "codemirror_mode": {
    "name": "ipython",
    "version": 3
   },
   "file_extension": ".py",
   "mimetype": "text/x-python",
   "name": "python",
   "nbconvert_exporter": "python",
   "pygments_lexer": "ipython3",
   "version": "3.9.7"
  }
 },
 "nbformat": 4,
 "nbformat_minor": 5
}
