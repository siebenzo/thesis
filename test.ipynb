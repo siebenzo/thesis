{
 "cells": [
  {
   "cell_type": "code",
   "execution_count": null,
   "id": "1c913aee",
   "metadata": {},
   "outputs": [],
   "source": [
    "import cv2\n",
    "import requests\n",
    "import numpy as np\n",
    "from IPython.display import display, clear_output\n",
    "\n",
    "# Set the URL for the camera stream\n",
    "url = \"http://192.168.0.179:80/\"\n",
    "\n",
    "# Set up the video stream\n",
    "stream = requests.get(url, stream=True)\n",
    "stream.raise_for_status()\n",
    "\n",
    "# Initialize the face detection cascade classifier\n",
    "face_cascade = cv2.CascadeClassifier(cv2.data.haarcascades + 'haarcascade_frontalface_default.xml')\n",
    "\n",
    "# Loop through the video frames\n",
    "for chunk in stream.iter_content(chunk_size=1024):\n",
    "    # Decode the JPEG data\n",
    "    img_array = bytes()\n",
    "    img_array += chunk\n",
    "    img = cv2.imdecode(np.frombuffer(img_array, dtype=np.uint8), cv2.IMREAD_COLOR)\n",
    "    \n",
    "    # Convert the image to grayscale\n",
    "    gray = cv2.cvtColor(img, cv2.COLOR_BGR2GRAY)\n",
    "    \n",
    "    # Detect faces in the image\n",
    "    faces = face_cascade.detectMultiScale(gray, 1.3, 5)\n",
    "    \n",
    "    # Draw a rectangle around each face\n",
    "    for (x,y,w,h) in faces:\n",
    "        cv2.rectangle(img,(x,y),(x+w,y+h),(255,0,0),2)\n",
    "        \n",
    "        # Send a signal to the ESP32 if a face is detected\n",
    "        #requests.get('http://192.168.0.179/signal?300')\n",
    "\n",
    "    # Display the image\n",
    "    cv2.imshow('ESP32 Video Stream', cv2.imread(img))\n",
    "    cv2.waitKey(1)\n",
    "    \n",
    "    # Exit the loop if the 'q' key is pressed\n",
    "    if cv2.waitKey(1) & 0xFF == ord('q'):\n",
    "        break\n",
    "    \n",
    "# Clean up\n",
    "cv2.destroyAllWindows()\n"
   ]
  },
  {
   "cell_type": "code",
   "execution_count": null,
   "id": "01b8e123",
   "metadata": {},
   "outputs": [],
   "source": []
  },
  {
   "cell_type": "code",
   "execution_count": null,
   "id": "dec9bc08",
   "metadata": {},
   "outputs": [],
   "source": []
  }
 ],
 "metadata": {
  "kernelspec": {
   "display_name": "Python 3 (ipykernel)",
   "language": "python",
   "name": "python3"
  },
  "language_info": {
   "codemirror_mode": {
    "name": "ipython",
    "version": 3
   },
   "file_extension": ".py",
   "mimetype": "text/x-python",
   "name": "python",
   "nbconvert_exporter": "python",
   "pygments_lexer": "ipython3",
   "version": "3.9.7"
  }
 },
 "nbformat": 4,
 "nbformat_minor": 5
}
